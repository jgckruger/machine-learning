{
 "cells": [
  {
   "cell_type": "code",
   "execution_count": 13,
   "metadata": {},
   "outputs": [],
   "source": [
    "import pandas as pd\n",
    "import numpy as np\n",
    "import pylab as pl\n",
    "\n",
    "from sklearn.model_selection import train_test_split\n",
    "from sklearn.metrics import confusion_matrix\n",
    "\n",
    "from sklearn import neighbors, tree, naive_bayes, svm, neural_network\n",
    "from sklearn. svm import SVC"
   ]
  },
  {
   "cell_type": "code",
   "execution_count": 14,
   "metadata": {},
   "outputs": [],
   "source": [
    "dataset = pd.read_csv(\"mono_feat.csv\")\n",
    "dataset.head()\n",
    "data = dataset.iloc[:, 0:827].values\n",
    "target = dataset.iloc[:,827].values"
   ]
  },
  {
   "cell_type": "code",
   "execution_count": 15,
   "metadata": {},
   "outputs": [],
   "source": [
    "X_train, X_test, y_train, y_test = train_test_split(data, target, test_size=0.30)"
   ]
  },
  {
   "cell_type": "code",
   "execution_count": 16,
   "metadata": {},
   "outputs": [
    {
     "name": "stdout",
     "output_type": "stream",
     "text": [
      "0.7633333333333333\n"
     ]
    },
    {
     "data": {
      "text/plain": [
       "array([[27,  1,  0,  0,  0,  0,  1,  0,  1,  0],\n",
       "       [ 1, 17,  1,  3,  2,  0,  0,  0,  0,  1],\n",
       "       [ 1,  2, 15,  4,  1,  0,  1,  0,  0,  7],\n",
       "       [ 1,  2,  2, 24,  0,  0,  1,  0,  1,  0],\n",
       "       [ 0,  1,  1,  1, 30,  0,  1,  0,  0,  2],\n",
       "       [ 1,  0,  0,  0,  0, 27,  0,  0,  0,  0],\n",
       "       [ 2,  1,  0,  2,  0,  0, 18,  0,  4,  1],\n",
       "       [ 3,  0,  0,  0,  1,  0,  0, 24,  0,  0],\n",
       "       [ 3,  0,  0,  0,  0,  0,  1,  1, 32,  0],\n",
       "       [ 0,  0,  4,  4,  1,  0,  2,  0,  0, 15]], dtype=int64)"
      ]
     },
     "execution_count": 16,
     "metadata": {},
     "output_type": "execute_result"
    }
   ],
   "source": [
    "knn = neighbors.KNeighborsClassifier(n_neighbors = 1)\n",
    "knn.fit(X_train, y_train)\n",
    "print(knn.score(X_test, y_test))\n",
    "y_predic_knn = knn.predict(X_test)\n",
    "confusion_matrix(y_test, y_predic_knn)"
   ]
  },
  {
   "cell_type": "code",
   "execution_count": 17,
   "metadata": {},
   "outputs": [
    {
     "name": "stdout",
     "output_type": "stream",
     "text": [
      "0.6166666666666667\n"
     ]
    },
    {
     "data": {
      "text/plain": [
       "array([[20,  1,  1,  3,  0,  0,  2,  0,  1,  2],\n",
       "       [ 3, 13,  1,  2,  2,  1,  0,  0,  0,  3],\n",
       "       [ 2,  0, 19,  2,  2,  0,  2,  1,  1,  2],\n",
       "       [ 2,  2,  4, 13,  6,  0,  2,  0,  1,  1],\n",
       "       [ 0,  2,  2,  7, 24,  0,  0,  0,  0,  1],\n",
       "       [ 0,  0,  1,  1,  0, 26,  0,  0,  0,  0],\n",
       "       [ 2,  2,  4,  3,  0,  0, 12,  0,  4,  1],\n",
       "       [ 0,  1,  0,  5,  0,  0,  0, 21,  0,  1],\n",
       "       [ 4,  0,  0,  2,  0,  0,  4,  0, 25,  2],\n",
       "       [ 5,  1,  2,  2,  0,  0,  2,  1,  1, 12]], dtype=int64)"
      ]
     },
     "execution_count": 17,
     "metadata": {},
     "output_type": "execute_result"
    }
   ],
   "source": [
    "c45 = tree.DecisionTreeClassifier()\n",
    "c45.fit(X_train, y_train)\n",
    "print(c45.score(X_test, y_test))\n",
    "y_predic_c45 = c45.predict(X_test)\n",
    "confusion_matrix(y_test, y_predic_c45)"
   ]
  },
  {
   "cell_type": "code",
   "execution_count": 18,
   "metadata": {},
   "outputs": [
    {
     "name": "stdout",
     "output_type": "stream",
     "text": [
      "0.7666666666666667\n"
     ]
    },
    {
     "data": {
      "text/plain": [
       "array([[24,  1,  1,  0,  2,  0,  0,  0,  1,  1],\n",
       "       [ 3, 16,  0,  1,  2,  0,  2,  1,  0,  0],\n",
       "       [ 0,  0, 24,  2,  2,  0,  0,  0,  1,  2],\n",
       "       [ 3,  3,  7, 13,  1,  0,  3,  0,  0,  1],\n",
       "       [ 1,  3,  0,  1, 30,  0,  0,  0,  0,  1],\n",
       "       [ 0,  0,  0,  0,  0, 27,  1,  0,  0,  0],\n",
       "       [ 2,  0,  1,  0,  0,  0, 24,  0,  1,  0],\n",
       "       [ 1,  0,  0,  0,  0,  0,  0, 25,  1,  1],\n",
       "       [ 0,  0,  0,  1,  0,  0,  2,  0, 34,  0],\n",
       "       [ 1,  2,  4,  2,  1,  0,  3,  0,  0, 13]], dtype=int64)"
      ]
     },
     "execution_count": 18,
     "metadata": {},
     "output_type": "execute_result"
    }
   ],
   "source": [
    "gnb = naive_bayes.GaussianNB()\n",
    "gnb.fit(X_train, y_train)\n",
    "print(gnb.score(X_test, y_test))\n",
    "y_predic_gnb = gnb.predict(X_test)\n",
    "confusion_matrix(y_test, y_predic_gnb)"
   ]
  },
  {
   "cell_type": "code",
   "execution_count": 22,
   "metadata": {},
   "outputs": [
    {
     "ename": "AttributeError",
     "evalue": "'SVC' object has no attribute 'SVC'",
     "output_type": "error",
     "traceback": [
      "\u001b[1;31m---------------------------------------------------------------------------\u001b[0m",
      "\u001b[1;31mAttributeError\u001b[0m                            Traceback (most recent call last)",
      "\u001b[1;32m<ipython-input-22-963b41456beb>\u001b[0m in \u001b[0;36m<module>\u001b[1;34m()\u001b[0m\n\u001b[1;32m----> 1\u001b[1;33m \u001b[0msvm\u001b[0m \u001b[1;33m=\u001b[0m \u001b[0msvm\u001b[0m\u001b[1;33m.\u001b[0m\u001b[0mSVC\u001b[0m\u001b[1;33m(\u001b[0m\u001b[0mgamma\u001b[0m\u001b[1;33m=\u001b[0m\u001b[1;34m'auto'\u001b[0m\u001b[1;33m)\u001b[0m\u001b[1;33m\u001b[0m\u001b[0m\n\u001b[0m\u001b[0;32m      2\u001b[0m \u001b[0msvm\u001b[0m\u001b[1;33m.\u001b[0m\u001b[0mfit\u001b[0m\u001b[1;33m(\u001b[0m\u001b[0mX\u001b[0m\u001b[1;33m,\u001b[0m \u001b[0my\u001b[0m\u001b[1;33m)\u001b[0m\u001b[1;33m\u001b[0m\u001b[0m\n\u001b[0;32m      3\u001b[0m \u001b[0mprint\u001b[0m\u001b[1;33m(\u001b[0m\u001b[0msvm\u001b[0m\u001b[1;33m.\u001b[0m\u001b[0mscore\u001b[0m\u001b[1;33m(\u001b[0m\u001b[0mX_test\u001b[0m\u001b[1;33m,\u001b[0m \u001b[0my_test\u001b[0m\u001b[1;33m)\u001b[0m\u001b[1;33m)\u001b[0m\u001b[1;33m\u001b[0m\u001b[0m\n\u001b[0;32m      4\u001b[0m \u001b[0my_predic_svm\u001b[0m \u001b[1;33m=\u001b[0m \u001b[0msvm\u001b[0m\u001b[1;33m.\u001b[0m\u001b[0mpredict\u001b[0m\u001b[1;33m(\u001b[0m\u001b[0mX_test\u001b[0m\u001b[1;33m)\u001b[0m\u001b[1;33m\u001b[0m\u001b[0m\n\u001b[0;32m      5\u001b[0m \u001b[0mconfusion_matrix\u001b[0m\u001b[1;33m(\u001b[0m\u001b[0my_test\u001b[0m\u001b[1;33m,\u001b[0m \u001b[0my_predic_svm\u001b[0m\u001b[1;33m)\u001b[0m\u001b[1;33m\u001b[0m\u001b[0m\n",
      "\u001b[1;31mAttributeError\u001b[0m: 'SVC' object has no attribute 'SVC'"
     ]
    }
   ],
   "source": [
    "svm = svm.SVC(gamma='auto')\n",
    "svm.fit(X, y) \n",
    "print(svm.score(X_test, y_test))\n",
    "y_predic_svm = svm.predict(X_test)\n",
    "confusion_matrix(y_test, y_predic_svm)"
   ]
  },
  {
   "cell_type": "code",
   "execution_count": 11,
   "metadata": {},
   "outputs": [
    {
     "name": "stdout",
     "output_type": "stream",
     "text": [
      "0.8666666666666667\n"
     ]
    },
    {
     "data": {
      "text/plain": [
       "array([[22,  0,  0,  0,  0,  0,  1,  0,  0,  1],\n",
       "       [ 0, 15,  0,  0,  0,  1,  0,  0,  0,  1],\n",
       "       [ 1,  0, 19,  2,  0,  0,  2,  0,  0,  4],\n",
       "       [ 2,  1,  1, 29,  1,  0,  0,  0,  0,  1],\n",
       "       [ 0,  1,  0,  0, 18,  0,  0,  0,  0,  0],\n",
       "       [ 0,  0,  0,  0,  0, 36,  1,  0,  0,  0],\n",
       "       [ 1,  0,  2,  0,  0,  0, 27,  0,  3,  0],\n",
       "       [ 0,  0,  1,  0,  1,  0,  0, 33,  0,  0],\n",
       "       [ 0,  0,  0,  0,  0,  0,  0,  0, 36,  0],\n",
       "       [ 0,  0,  8,  3,  0,  0,  0,  0,  0, 25]], dtype=int64)"
      ]
     },
     "execution_count": 11,
     "metadata": {},
     "output_type": "execute_result"
    }
   ],
   "source": [
    "mlp = neural_network.MLPClassifier(max_iter = 4000)\n",
    "mlp.fit(X_train, y_train)\n",
    "print(mlp.score(X_test, y_test))\n",
    "y_predic_mlp = mlp.predict(X_test)\n",
    "confusion_matrix(y_test, y_predic_mlp)"
   ]
  },
  {
   "cell_type": "code",
   "execution_count": null,
   "metadata": {},
   "outputs": [],
   "source": []
  }
 ],
 "metadata": {
  "kernelspec": {
   "display_name": "Python 3",
   "language": "python",
   "name": "python3"
  },
  "language_info": {
   "codemirror_mode": {
    "name": "ipython",
    "version": 3
   },
   "file_extension": ".py",
   "mimetype": "text/x-python",
   "name": "python",
   "nbconvert_exporter": "python",
   "pygments_lexer": "ipython3",
   "version": "3.6.5"
  }
 },
 "nbformat": 4,
 "nbformat_minor": 2
}
