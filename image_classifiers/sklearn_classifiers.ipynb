{
 "cells": [
  {
   "cell_type": "code",
   "execution_count": 1,
   "metadata": {},
   "outputs": [],
   "source": [
    "import pandas as pd\n",
    "import numpy as np\n",
    "import pylab as pl\n",
    "\n",
    "from sklearn.model_selection import train_test_split\n",
    "from sklearn.metrics import confusion_matrix\n",
    "\n",
    "from sklearn import neighbors, tree, naive_bayes, svm, neural_network\n",
    "from sklearn.svm import SVC"
   ]
  },
  {
   "cell_type": "code",
   "execution_count": 2,
   "metadata": {},
   "outputs": [],
   "source": [
    "dataset = pd.read_csv(\"mono_feat.csv\")\n",
    "dataset.head()\n",
    "data = dataset.iloc[:, 0:827].values\n",
    "normalized_data=(data-data.mean())/data.std()\n",
    "target = dataset.iloc[:,827].values"
   ]
  },
  {
   "cell_type": "code",
   "execution_count": 3,
   "metadata": {},
   "outputs": [],
   "source": [
    "X_train, X_test, y_train, y_test = train_test_split(normalized_data, target, test_size=0.30)"
   ]
  },
  {
   "cell_type": "code",
   "execution_count": 4,
   "metadata": {},
   "outputs": [
    {
     "name": "stdout",
     "output_type": "stream",
     "text": [
      "0.6933333333333334\n"
     ]
    },
    {
     "data": {
      "text/plain": [
       "array([[26,  0,  1,  1,  0,  0,  2,  1,  1,  0],\n",
       "       [ 1, 20,  0,  1,  3,  0,  0,  1,  0,  0],\n",
       "       [ 1,  1, 17,  5,  1,  0,  2,  0,  0,  8],\n",
       "       [ 7,  1,  2, 17,  2,  0,  2,  1,  0,  0],\n",
       "       [ 0,  4,  1,  1, 20,  0,  1,  0,  0,  3],\n",
       "       [ 1,  0,  0,  0,  0, 29,  0,  0,  0,  0],\n",
       "       [ 4,  0,  0,  5,  0,  0, 24,  0,  0,  0],\n",
       "       [ 4,  0,  0,  0,  0,  0,  0, 24,  0,  0],\n",
       "       [ 2,  0,  0,  0,  0,  0,  3,  0, 21,  0],\n",
       "       [ 2,  1,  7,  5,  0,  0,  2,  0,  1, 10]], dtype=int64)"
      ]
     },
     "execution_count": 4,
     "metadata": {},
     "output_type": "execute_result"
    }
   ],
   "source": [
    "knn = neighbors.KNeighborsClassifier(n_neighbors = 1)\n",
    "knn.fit(X_train, y_train)\n",
    "print(knn.score(X_test, y_test))\n",
    "y_predic_knn = knn.predict(X_test)\n",
    "confusion_matrix(y_test, y_predic_knn)"
   ]
  },
  {
   "cell_type": "code",
   "execution_count": 5,
   "metadata": {},
   "outputs": [
    {
     "name": "stdout",
     "output_type": "stream",
     "text": [
      "0.69\n"
     ]
    },
    {
     "data": {
      "text/plain": [
       "array([[22,  1,  0,  2,  0,  0,  2,  3,  0,  2],\n",
       "       [ 4, 14,  1,  1,  4,  0,  0,  0,  1,  1],\n",
       "       [ 1,  4, 20,  3,  1,  0,  0,  1,  1,  4],\n",
       "       [ 5,  4,  2, 12,  2,  1,  1,  2,  1,  2],\n",
       "       [ 0,  1,  0,  0, 27,  0,  0,  0,  0,  2],\n",
       "       [ 2,  2,  0,  0,  0, 26,  0,  0,  0,  0],\n",
       "       [ 2,  0,  1,  2,  0,  0, 25,  0,  3,  0],\n",
       "       [ 0,  0,  0,  0,  0,  2,  0, 26,  0,  0],\n",
       "       [ 1,  0,  0,  3,  0,  0,  0,  0, 21,  1],\n",
       "       [ 4,  0,  3,  1,  0,  0,  5,  0,  1, 14]], dtype=int64)"
      ]
     },
     "execution_count": 5,
     "metadata": {},
     "output_type": "execute_result"
    }
   ],
   "source": [
    "c45 = tree.DecisionTreeClassifier()\n",
    "c45.fit(X_train, y_train)\n",
    "print(c45.score(X_test, y_test))\n",
    "y_predic_c45 = c45.predict(X_test)\n",
    "confusion_matrix(y_test, y_predic_c45)"
   ]
  },
  {
   "cell_type": "code",
   "execution_count": 6,
   "metadata": {},
   "outputs": [
    {
     "name": "stdout",
     "output_type": "stream",
     "text": [
      "0.7433333333333333\n"
     ]
    },
    {
     "data": {
      "text/plain": [
       "array([[25,  2,  1,  0,  0,  0,  0,  0,  3,  1],\n",
       "       [ 6, 16,  0,  0,  2,  0,  1,  1,  0,  0],\n",
       "       [ 0,  0, 25,  4,  0,  0,  2,  0,  1,  3],\n",
       "       [ 8,  5,  3, 10,  1,  0,  2,  1,  2,  0],\n",
       "       [ 0,  5,  0,  0, 24,  0,  0,  0,  0,  1],\n",
       "       [ 0,  0,  0,  0,  0, 28,  2,  0,  0,  0],\n",
       "       [ 2,  2,  0,  2,  0,  0, 27,  0,  0,  0],\n",
       "       [ 0,  0,  0,  0,  0,  0,  0, 28,  0,  0],\n",
       "       [ 2,  0,  0,  0,  1,  0,  0,  0, 23,  0],\n",
       "       [ 3,  0,  4,  2,  2,  0,  0,  0,  0, 17]], dtype=int64)"
      ]
     },
     "execution_count": 6,
     "metadata": {},
     "output_type": "execute_result"
    }
   ],
   "source": [
    "gnb = naive_bayes.GaussianNB()\n",
    "gnb.fit(X_train, y_train)\n",
    "print(gnb.score(X_test, y_test))\n",
    "y_predic_gnb = gnb.predict(X_test)\n",
    "confusion_matrix(y_test, y_predic_gnb)"
   ]
  },
  {
   "cell_type": "code",
   "execution_count": 7,
   "metadata": {},
   "outputs": [
    {
     "name": "stdout",
     "output_type": "stream",
     "text": [
      "0.85\n"
     ]
    },
    {
     "data": {
      "text/plain": [
       "array([[30,  0,  1,  0,  0,  0,  0,  0,  0,  1],\n",
       "       [ 0, 25,  0,  0,  1,  0,  0,  0,  0,  0],\n",
       "       [ 1,  0, 27,  4,  1,  0,  0,  0,  0,  2],\n",
       "       [ 4,  1,  2, 22,  2,  0,  1,  0,  0,  0],\n",
       "       [ 0,  0,  0,  0, 30,  0,  0,  0,  0,  0],\n",
       "       [ 0,  1,  0,  0,  0, 29,  0,  0,  0,  0],\n",
       "       [ 3,  0,  1,  1,  0,  0, 26,  0,  0,  2],\n",
       "       [ 1,  1,  0,  0,  0,  0,  0, 26,  0,  0],\n",
       "       [ 2,  0,  2,  0,  0,  0,  2,  0, 20,  0],\n",
       "       [ 1,  0,  6,  1,  0,  0,  0,  0,  0, 20]], dtype=int64)"
      ]
     },
     "execution_count": 7,
     "metadata": {},
     "output_type": "execute_result"
    }
   ],
   "source": [
    "svm = svm.SVC(kernel = 'poly', C = 1000,gamma = 'auto')\n",
    "svm.fit(X_train, y_train) \n",
    "print(svm.score(X_test, y_test))\n",
    "y_predic_svm = svm.predict(X_test)\n",
    "confusion_matrix(y_test, y_predic_svm)"
   ]
  },
  {
   "cell_type": "code",
   "execution_count": 8,
   "metadata": {},
   "outputs": [
    {
     "name": "stdout",
     "output_type": "stream",
     "text": [
      "0.8566666666666667\n"
     ]
    },
    {
     "data": {
      "text/plain": [
       "array([[28,  0,  1,  0,  0,  0,  0,  0,  0,  3],\n",
       "       [ 0, 23,  1,  0,  1,  0,  1,  0,  0,  0],\n",
       "       [ 1,  0, 23,  4,  0,  0,  2,  0,  0,  5],\n",
       "       [ 4,  0,  2, 25,  0,  0,  0,  0,  0,  1],\n",
       "       [ 0,  1,  0,  1, 28,  0,  0,  0,  0,  0],\n",
       "       [ 0,  1,  0,  0,  0, 29,  0,  0,  0,  0],\n",
       "       [ 3,  0,  1,  0,  0,  0, 27,  0,  0,  2],\n",
       "       [ 1,  0,  0,  0,  0,  0,  0, 27,  0,  0],\n",
       "       [ 2,  0,  0,  0,  0,  0,  1,  0, 23,  0],\n",
       "       [ 0,  0,  4,  0,  0,  0,  0,  0,  0, 24]], dtype=int64)"
      ]
     },
     "execution_count": 8,
     "metadata": {},
     "output_type": "execute_result"
    }
   ],
   "source": [
    "mlp = neural_network.MLPClassifier(max_iter = 4000)\n",
    "mlp.fit(X_train, y_train)\n",
    "print(mlp.score(X_test, y_test))\n",
    "y_predic_mlp = mlp.predict(X_test)\n",
    "confusion_matrix(y_test, y_predic_mlp)"
   ]
  }
 ],
 "metadata": {
  "kernelspec": {
   "display_name": "Python 3",
   "language": "python",
   "name": "python3"
  },
  "language_info": {
   "codemirror_mode": {
    "name": "ipython",
    "version": 3
   },
   "file_extension": ".py",
   "mimetype": "text/x-python",
   "name": "python",
   "nbconvert_exporter": "python",
   "pygments_lexer": "ipython3",
   "version": "3.6.5"
  }
 },
 "nbformat": 4,
 "nbformat_minor": 2
}
