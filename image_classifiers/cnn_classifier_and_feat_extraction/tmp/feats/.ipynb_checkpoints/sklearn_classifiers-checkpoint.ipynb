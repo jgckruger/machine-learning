{
 "cells": [
  {
   "cell_type": "code",
   "execution_count": 1,
   "metadata": {},
   "outputs": [],
   "source": [
    "import pandas as pd\n",
    "import numpy as np\n",
    "import pylab as pl\n",
    "\n",
    "from sklearn.model_selection import train_test_split\n",
    "from sklearn.metrics import confusion_matrix\n",
    "\n",
    "from sklearn import neighbors, tree, naive_bayes, svm, neural_network\n",
    "from sklearn.svm import SVC"
   ]
  },
  {
   "cell_type": "code",
   "execution_count": 2,
   "metadata": {},
   "outputs": [],
   "source": [
    "dataset = pd.read_csv(\"features.csv\")\n",
    "dataset.head()\n",
    "data = dataset.iloc[:, 0:2048].values\n",
    "normalized_data=(data-data.mean())/data.std()\n",
    "target = dataset.iloc[:,2048].values"
   ]
  },
  {
   "cell_type": "code",
   "execution_count": 3,
   "metadata": {},
   "outputs": [],
   "source": [
    "labels = ['aborigene', 'praia', 'monumento','onibus','dinossauro','elefante','flor','cavalo','montanha','comida']\n",
    "labels2 = ['Aborígene', 'Praia', 'Monumento','Ônibus','Dinossauro','Elefante','Flor','Cavalo','Montanha','Comida']"
   ]
  },
  {
   "cell_type": "code",
   "execution_count": 4,
   "metadata": {},
   "outputs": [],
   "source": [
    "X_train, X_test, y_train, y_test = train_test_split(normalized_data, target, test_size=0.30,stratify=target)"
   ]
  },
  {
   "cell_type": "code",
   "execution_count": null,
   "metadata": {},
   "outputs": [
    {
     "name": "stdout",
     "output_type": "stream",
     "text": [
      "1.0\n"
     ]
    }
   ],
   "source": [
    "knn = neighbors.KNeighborsClassifier(n_neighbors = 1)\n",
    "knn.fit(X_train, y_train)\n",
    "print(knn.score(X_test, y_test))\n",
    "y_predic_knn = knn.predict(X_test)\n",
    "dfknn1 = pd.DataFrame(confusion_matrix(y_test, y_predic_knn, labels = labels))\n",
    "dfknn1.columns= labels2\n",
    "dfknn1.index = labels2\n",
    "dfknn1"
   ]
  },
  {
   "cell_type": "code",
   "execution_count": null,
   "metadata": {},
   "outputs": [],
   "source": [
    "knn = neighbors.KNeighborsClassifier(n_neighbors = 3)\n",
    "knn.fit(X_train, y_train)\n",
    "print(knn.score(X_test, y_test))\n",
    "y_predic_knn = knn.predict(X_test)\n",
    "dfknn3 = pd.DataFrame(confusion_matrix(y_test, y_predic_knn, labels = labels))\n",
    "dfknn3.columns= labels2\n",
    "dfknn3.index = labels2\n",
    "dfknn3"
   ]
  },
  {
   "cell_type": "code",
   "execution_count": null,
   "metadata": {},
   "outputs": [],
   "source": [
    "knn = neighbors.KNeighborsClassifier(n_neighbors = 5)\n",
    "knn.fit(X_train, y_train)\n",
    "print(knn.score(X_test, y_test))\n",
    "y_predic_knn = knn.predict(X_test)\n",
    "dfknn5 = pd.DataFrame(confusion_matrix(y_test, y_predic_knn, labels = labels))\n",
    "dfknn5.columns= labels2\n",
    "dfknn5.index = labels2\n",
    "dfknn5"
   ]
  },
  {
   "cell_type": "code",
   "execution_count": null,
   "metadata": {},
   "outputs": [],
   "source": [
    "knn = neighbors.KNeighborsClassifier(n_neighbors = 7)\n",
    "knn.fit(X_train, y_train)\n",
    "print(knn.score(X_test, y_test))\n",
    "y_predic_knn = knn.predict(X_test)\n",
    "dfknn7 = pd.DataFrame(confusion_matrix(y_test, y_predic_knn, labels = labels))\n",
    "dfknn7.columns= labels2\n",
    "dfknn7.index = labels2\n",
    "dfknn7"
   ]
  },
  {
   "cell_type": "code",
   "execution_count": null,
   "metadata": {},
   "outputs": [],
   "source": [
    "c45 = tree.DecisionTreeClassifier()\n",
    "c45.fit(X_train, y_train)\n",
    "print(c45.score(X_test, y_test))\n",
    "y_predic_c45 = c45.predict(X_test)\n",
    "dfc45 = pd.DataFrame(confusion_matrix(y_test, y_predic_c45, labels = labels))\n",
    "dfc45.columns= labels2\n",
    "dfc45.index = labels2\n",
    "dfc45"
   ]
  },
  {
   "cell_type": "code",
   "execution_count": null,
   "metadata": {},
   "outputs": [],
   "source": [
    "gnb = naive_bayes.GaussianNB()\n",
    "gnb.fit(X_train, y_train)\n",
    "print(gnb.score(X_test, y_test))\n",
    "y_predic_gnb = gnb.predict(X_test)\n",
    "dfgnb = pd.DataFrame(confusion_matrix(y_test, y_predic_gnb, labels = labels))\n",
    "dfgnb.columns= labels2\n",
    "dfgnb.index = labels2\n",
    "dfgnb"
   ]
  },
  {
   "cell_type": "code",
   "execution_count": null,
   "metadata": {},
   "outputs": [],
   "source": [
    "svm = svm.SVC(kernel = 'poly', C = 1000,gamma = 'auto')\n",
    "svm.fit(X_train, y_train) \n",
    "print(svm.score(X_test, y_test))\n",
    "y_predic_svm = svm.predict(X_test)\n",
    "dfsvm = pd.DataFrame(confusion_matrix(y_test, y_predic_svm, labels = labels))\n",
    "dfsvm.columns= labels2\n",
    "dfsvm.index = labels2\n",
    "dfsvm"
   ]
  },
  {
   "cell_type": "code",
   "execution_count": null,
   "metadata": {},
   "outputs": [],
   "source": [
    "mlp = neural_network.MLPClassifier(max_iter = 4000)\n",
    "mlp.fit(X_train, y_train)\n",
    "print(mlp.score(X_test, y_test))\n",
    "y_predic_mlp = mlp.predict(X_test)\n",
    "dfmlp = pd.DataFrame(confusion_matrix(y_test, y_predic_mlp, labels = labels))\n",
    "dfmlp.columns= labels2\n",
    "dfmlp.index = labels2\n",
    "dfmlp"
   ]
  }
 ],
 "metadata": {
  "kernelspec": {
   "display_name": "Python 3",
   "language": "python",
   "name": "python3"
  },
  "language_info": {
   "codemirror_mode": {
    "name": "ipython",
    "version": 3
   },
   "file_extension": ".py",
   "mimetype": "text/x-python",
   "name": "python",
   "nbconvert_exporter": "python",
   "pygments_lexer": "ipython3",
   "version": "3.6.5"
  }
 },
 "nbformat": 4,
 "nbformat_minor": 2
}
