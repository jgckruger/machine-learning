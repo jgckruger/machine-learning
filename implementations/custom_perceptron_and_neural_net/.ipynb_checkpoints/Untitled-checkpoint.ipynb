{
 "cells": [
  {
   "cell_type": "code",
   "execution_count": 6,
   "metadata": {
    "collapsed": true
   },
   "outputs": [],
   "source": [
    "from random import *\n",
    "import numpy as np"
   ]
  },
  {
   "cell_type": "code",
   "execution_count": 7,
   "metadata": {},
   "outputs": [
    {
     "data": {
      "text/plain": [
       "array([[ 1, -1, -1],\n",
       "       [ 1, -1,  1],\n",
       "       [ 1,  1, -1],\n",
       "       [ 1,  1,  1]])"
      ]
     },
     "execution_count": 7,
     "metadata": {},
     "output_type": "execute_result"
    }
   ],
   "source": [
    "dataset = np.array([[1, -1, -1],\n",
    "          [1,-1, +1],\n",
    "           [1, 1, -1],\n",
    "            [1,+1,+1]])\n",
    "dataset"
   ]
  },
  {
   "cell_type": "code",
   "execution_count": 8,
   "metadata": {
    "scrolled": true
   },
   "outputs": [
    {
     "data": {
      "text/plain": [
       "array([-1,  1,  1, -1])"
      ]
     },
     "execution_count": 8,
     "metadata": {},
     "output_type": "execute_result"
    }
   ],
   "source": [
    "classes = np.array([-1,1, 1,-1])\n",
    "classes"
   ]
  },
  {
   "cell_type": "code",
   "execution_count": 103,
   "metadata": {},
   "outputs": [],
   "source": [
    "def classifica(ex, pesos):\n",
    "    classe = 0\n",
    "    if (np.sum(np.dot(ex,pesos)) < 0):\n",
    "        #print('classificou como -1')\n",
    "        classe = -1\n",
    "    elif (np.sum(np.dot(ex,pesos)) > 0):\n",
    "        #print('classificou como 1')\n",
    "        classe = 1\n",
    "    else:\n",
    "        classe = 0\n",
    "        \n",
    "    return classe\n",
    "        \n",
    "def classificaCerto(ex, classEx, pesos):\n",
    "    classe = 0\n",
    "    if (np.sum(np.dot(ex,pesos)) < 0):\n",
    "        #print('classificou como -1')\n",
    "        classe = -1\n",
    "    elif (np.sum(np.dot(ex,pesos)) > 0):\n",
    "        #print('classificou como 1')\n",
    "        classe = 1\n",
    "    else:\n",
    "        classe = 0\n",
    "        \n",
    "    return classe == classEx\n",
    "        "
   ]
  },
  {
   "cell_type": "code",
   "execution_count": 108,
   "metadata": {},
   "outputs": [],
   "source": [
    "def perceptronBolsoCatraca(dataset, classes, epochs):\n",
    "    pi = np.zeros(len(dataset[0]))\n",
    "    w = np.array([0]*len(dataset[0]))\n",
    "    runPi=runW=numOkPi=numOkW=0\n",
    "    ex=0\n",
    "    for i in range(epochs):\n",
    "        ex = randint(0,len(dataset)-1)\n",
    "        randEx = dataset[ex]\n",
    "        randExClass = classes[ex]\n",
    "        classificacao = np.dot(randEx,pi)\n",
    "        print(\"classificou como \" + str(classificacao))\n",
    "        if ((classificacao < 0 and randExClass == -1) or (classificacao > 0 and randExClass == 1)):\n",
    "            runPi=runPi+1\n",
    "            if runPi > runW:\n",
    "                classificacoes = []\n",
    "                for i in range(len(dataset)):\n",
    "                    classificacoes.append(classifica(dataset[i],pi))\n",
    "                print('classificacoes ')\n",
    "                print(classificacoes)\n",
    "                for i in range(len(dataset)):\n",
    "                    if ((classificacoes[i] < 0 and classes[i] == -1) or (classificacoes[i] > 0 and classes[i] ==  1)):\n",
    "                        numOkPi = numOkPi+1\n",
    "                        print(\"nm ok pi\" + str(numOkPi))\n",
    "                        if numOkPi > numOkW:\n",
    "                            w = pi\n",
    "                            runW = runPi\n",
    "                            numOkW = numOkPi\n",
    "                            classificacoes = np.dot(dataset,pi)                          \n",
    "                            if(numOkW == len(dataset)):\n",
    "                                print(\"linearmente separáveis\")\n",
    "                                #return w\n",
    "\n",
    "        else:\n",
    "            #for i in range(len(dataset)-1):\n",
    "            #    pi[i]=pi[i]+(np.sum(dataset[i]*classes[i]))\n",
    "            pi = pi+np.dot(dataset[ex],classes[ex])\n",
    "            runw = 0\n",
    "            numOkPi = 0\n",
    "            runPi\n",
    "            \n",
    "        #print(\"\\n\\n\\n\")\n",
    "            \n",
    "    return w\n"
   ]
  },
  {
   "cell_type": "code",
   "execution_count": 126,
   "metadata": {},
   "outputs": [
    {
     "name": "stdout",
     "output_type": "stream",
     "text": [
      "classificou como 0.0\n",
      "classificou como 1.0\n",
      "classificou como -2.0\n",
      "classificacoes \n",
      "[-1, -1, 1, 1]\n",
      "nm ok pi1\n",
      "nm ok pi2\n",
      "classificou como -2.0\n",
      "classificou como 3.0\n",
      "classificou como 0.0\n",
      "classificou como 1.0\n",
      "classificou como -2.0\n"
     ]
    },
    {
     "data": {
      "text/plain": [
       "array([ 0.,  2.,  0.])"
      ]
     },
     "execution_count": 126,
     "metadata": {},
     "output_type": "execute_result"
    }
   ],
   "source": [
    "w = perceptronBolsoCatraca(dataset, classes,8)\n",
    "w"
   ]
  },
  {
   "cell_type": "code",
   "execution_count": 127,
   "metadata": {},
   "outputs": [
    {
     "name": "stdout",
     "output_type": "stream",
     "text": [
      "[[ 1 -1 -1]\n",
      " [ 1 -1  1]\n",
      " [ 1  1 -1]\n",
      " [ 1  1  1]]\n"
     ]
    }
   ],
   "source": [
    "print(dataset)"
   ]
  },
  {
   "cell_type": "code",
   "execution_count": 128,
   "metadata": {},
   "outputs": [
    {
     "name": "stdout",
     "output_type": "stream",
     "text": [
      "[-1  1  1 -1]\n"
     ]
    }
   ],
   "source": [
    "print(classes)"
   ]
  },
  {
   "cell_type": "code",
   "execution_count": 129,
   "metadata": {},
   "outputs": [
    {
     "data": {
      "text/plain": [
       "False"
      ]
     },
     "execution_count": 129,
     "metadata": {},
     "output_type": "execute_result"
    }
   ],
   "source": [
    "classificaCerto(dataset[0],classes[0],w)"
   ]
  },
  {
   "cell_type": "code",
   "execution_count": 114,
   "metadata": {},
   "outputs": [
    {
     "data": {
      "text/plain": [
       "1"
      ]
     },
     "execution_count": 114,
     "metadata": {},
     "output_type": "execute_result"
    }
   ],
   "source": [
    "classifica(dataset[0],w)"
   ]
  },
  {
   "cell_type": "code",
   "execution_count": null,
   "metadata": {
    "collapsed": true
   },
   "outputs": [],
   "source": []
  }
 ],
 "metadata": {
  "kernelspec": {
   "display_name": "Python 3",
   "language": "python",
   "name": "python3"
  },
  "language_info": {
   "codemirror_mode": {
    "name": "ipython",
    "version": 3
   },
   "file_extension": ".py",
   "mimetype": "text/x-python",
   "name": "python",
   "nbconvert_exporter": "python",
   "pygments_lexer": "ipython3",
   "version": "3.6.3"
  }
 },
 "nbformat": 4,
 "nbformat_minor": 2
}
