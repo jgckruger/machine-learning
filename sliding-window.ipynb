{
 "cells": [
  {
   "cell_type": "code",
   "execution_count": 1,
   "metadata": {
    "collapsed": true
   },
   "outputs": [],
   "source": [
    "import imutils\n",
    "import argparse\n",
    "import time\n",
    "import cv2\n",
    "import glob\n",
    "from matplotlib import pyplot as plt"
   ]
  },
  {
   "cell_type": "code",
   "execution_count": 2,
   "metadata": {
    "collapsed": true
   },
   "outputs": [],
   "source": [
    "# a idéia disso é dar resize na imagem mas não é necessário\n",
    "def pyramid(image, scale=1.5, minSize=(30, 30)):\n",
    "    # yield the original image\n",
    "    yield image\n",
    "    '''# keep looping over the pyramid\n",
    "    while True:\n",
    "        # compute the new dimensions of the image and resize it\n",
    "        w = int(image.shape[1] / scale)\n",
    "        image = imutils.resize(image, width=w)\n",
    "\n",
    "        # if the resized image does not meet the supplied minimum\n",
    "        # size, then stop constructing the pyramid\n",
    "        if image.shape[0] < minSize[1] or image.shape[1] < minSize[0]:\n",
    "            break\n",
    "\n",
    "        # yield the next image in the pyramid\n",
    "        yield image'''"
   ]
  },
  {
   "cell_type": "code",
   "execution_count": 3,
   "metadata": {
    "collapsed": true
   },
   "outputs": [],
   "source": [
    "def sliding_window(image, stepSize, windowSize):\n",
    "    # slide a window across the image\n",
    "    for y in range(0, image.shape[0], stepSize):\n",
    "        for x in range(0, image.shape[1], stepSize):\n",
    "            # yield the current window\n",
    "            yield (x, y, image[y:y + windowSize[1], x:x + windowSize[0]])"
   ]
  },
  {
   "cell_type": "code",
   "execution_count": 4,
   "metadata": {
    "collapsed": true
   },
   "outputs": [],
   "source": [
    "sizeWin = 64\n",
    "stepSize = int(sizeWin/2)\n",
    "(winW, winH) = (sizeWin, sizeWin)"
   ]
  },
  {
   "cell_type": "code",
   "execution_count": 5,
   "metadata": {
    "collapsed": true
   },
   "outputs": [],
   "source": [
    "def iteraSobreTodasImagens():\n",
    "    # argument parser\n",
    "    #ap = argparse.ArgumentParser()\n",
    "    #ap.add_argument(\"-i\", \"--image\", required=True, help=\"Path to the image\")\n",
    "    #args = vars(ap.parse_args())\n",
    "\n",
    "    # carrega image e define altura e largura da janela\n",
    "    # image = cv2.imread(args[\"image\"])\n",
    "    \n",
    "    filenames = glob.glob(\"/home/kruger/4o-ano/ia/machine-learning/datasets/placas/*.jpg\")\n",
    "    filenames.sort()\n",
    "    images = [cv2.imread(img) for img in filenames]\n",
    "\n",
    "    for image in images:\n",
    "        # loop da sliding window\n",
    "        for (x, y, window) in sliding_window(image, stepSize=stepSize, windowSize=(winW, winH)):\n",
    "            # if the window does not meet our desired window size, ignore it\n",
    "            if window.shape[0] != winH or window.shape[1] != winW:\n",
    "                continue\n",
    "\n",
    "            cv2.imwrite(\"/home/kruger/4o-ano/ia/machine-learning/datasets/placas/123.jpg\", window)\n",
    "            \n",
    "            # CLASSIFICADOR/EXTRATOR AQUI\n",
    "\n",
    "            # extrair características de window\n",
    "            clone = image.copy()\n",
    "            cv2.rectangle(clone, (x, y), (x + winW, y + winH), (0, 255, 0), 2)\n",
    "            cv2.imshow(\"Window\", clone)\n",
    "            cv2.waitKey(1)\n",
    "            time.sleep(0.025)\n",
    "        cv2.destroyAllWindows()"
   ]
  },
  {
   "cell_type": "code",
   "execution_count": 6,
   "metadata": {
    "collapsed": true
   },
   "outputs": [],
   "source": [
    "def iteraSobreImagem():\n",
    "    # argument parser \n",
    "    # ap = argparse.ArgumentParser()\n",
    "    # ap.add_argument(\"-i\", \"--image\", required=True, help=\"Caminho para a imagem\")\n",
    "    # args = vars(ap.parse_args())\n",
    "\n",
    "    # carrega imagem e define altura e largura da janela \n",
    "    #image = cv2.imread(args[\"image\"])\n",
    "    image = cv2.imread(\"/home/kruger/4o-ano/ia/machine-learning/datasets/placas/test_002.jpg\")\n",
    "\n",
    "    for image in pyramid(image):\n",
    "        # loop de sliding window \n",
    "        for (x, y, window) in sliding_window(image, stepSize=stepSize, windowSize=(winW, winH)):\n",
    "            # ignora se a janela nao obedece o tamanho certo\n",
    "            if window.shape[0] != winH or window.shape[1] != winW:\n",
    "                continue\n",
    "\n",
    "            cv2.imwrite(\"/home/kruger/4o-ano/ia/machine-learning/datasets/placas/123.jpg\", window)\n",
    "            \n",
    "            \n",
    "            ## O CLASSIFICADOR/EXTRATOR VAI AQUI\n",
    "\n",
    "            # extrair características de window\n",
    "            # desenha a janela\n",
    "            clone = image.copy()\n",
    "            cv2.rectangle(clone, (x, y), (x + winW, y + winH), (0, 255, 0), 2)\n",
    "            cv2.imshow(\"Window\", clone)\n",
    "            cv2.waitKey(1)\n",
    "            time.sleep(0.025)\n",
    "        cv2.destroyAllWindows()"
   ]
  },
  {
   "cell_type": "code",
   "execution_count": 7,
   "metadata": {
    "collapsed": true
   },
   "outputs": [],
   "source": [
    "def extraiHSV(image):\n",
    "    hsv = cv2.cvtColor(image,cv2.COLOR_BGR2HSV)\n",
    "    hist = cv2.calcHist([hsv], [0, 1], None, [180, 256], [0, 180, 0, 256])\n",
    "    return hist"
   ]
  },
  {
   "cell_type": "code",
   "execution_count": 8,
   "metadata": {
    "collapsed": true
   },
   "outputs": [],
   "source": [
    "iteraSobreImagem()"
   ]
  },
  {
   "cell_type": "code",
   "execution_count": 9,
   "metadata": {},
   "outputs": [
    {
     "data": {
      "image/png": "[encoded data removed]",
      "text/plain": [
       "<matplotlib.figure.Figure at 0x7f1220d35940>"
      ]
     },
     "metadata": {},
     "output_type": "display_data"
    },
    {
     "data": {
      "text/plain": [
       "array([[  5.75400000e+03,   0.00000000e+00,   1.00000000e+00, ...,\n",
       "          0.00000000e+00,   0.00000000e+00,   2.00000000e+00],\n",
       "       [  0.00000000e+00,   0.00000000e+00,   0.00000000e+00, ...,\n",
       "          0.00000000e+00,   0.00000000e+00,   0.00000000e+00],\n",
       "       [  0.00000000e+00,   0.00000000e+00,   0.00000000e+00, ...,\n",
       "          0.00000000e+00,   0.00000000e+00,   0.00000000e+00],\n",
       "       ..., \n",
       "       [  0.00000000e+00,   0.00000000e+00,   0.00000000e+00, ...,\n",
       "          0.00000000e+00,   0.00000000e+00,   0.00000000e+00],\n",
       "       [  0.00000000e+00,   0.00000000e+00,   0.00000000e+00, ...,\n",
       "          0.00000000e+00,   0.00000000e+00,   0.00000000e+00],\n",
       "       [  0.00000000e+00,   0.00000000e+00,   0.00000000e+00, ...,\n",
       "          0.00000000e+00,   0.00000000e+00,   0.00000000e+00]], dtype=float32)"
      ]
     },
     "execution_count": 9,
     "metadata": {},
     "output_type": "execute_result"
    }
   ],
   "source": [
    "hist = extraiHSV(cv2.imread(\"/home/kruger/4o-ano/ia/machine-learning/datasets/placas/test_002.jpg\"))\n",
    "plt.imshow(hist,interpolation = 'nearest')\n",
    "plt.show()\n",
    "hist.size"
   ]
  },
  {
   "cell_type": "code",
   "execution_count": null,
   "metadata": {
    "collapsed": true
   },
   "outputs": [],
   "source": []
  },
  {
   "cell_type": "code",
   "execution_count": null,
   "metadata": {
    "collapsed": true
   },
   "outputs": [],
   "source": []
  },
  {
   "cell_type": "code",
   "execution_count": null,
   "metadata": {
    "collapsed": true
   },
   "outputs": [],
   "source": []
  }
 ],
 "metadata": {
  "kernelspec": {
   "display_name": "Python 3",
   "language": "python",
   "name": "python3"
  },
  "language_info": {
   "codemirror_mode": {
    "name": "ipython",
    "version": 3
   },
   "file_extension": ".py",
   "mimetype": "text/x-python",
   "name": "python",
   "nbconvert_exporter": "python",
   "pygments_lexer": "ipython3",
   "version": "3.6.3"
  }
 },
 "nbformat": 4,
 "nbformat_minor": 2
}
